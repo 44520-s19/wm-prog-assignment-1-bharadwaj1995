{
 "cells": [
  {
   "cell_type": "markdown",
   "metadata": {},
   "source": [
    "# SUBRAHMANYA SAI BHARADWAJ GANDRAKOTA\n",
    "### solution for question 4"
   ]
  },
  {
   "cell_type": "code",
   "execution_count": 1,
   "metadata": {},
   "outputs": [
    {
     "name": "stdout",
     "output_type": "stream",
     "text": [
      "#      #\n",
      "##    ##\n",
      "###  ###\n",
      "########\n"
     ]
    }
   ],
   "source": [
    "verti = 4\n",
    "horizon = 8\n",
    "for vertical in range(1, verti+1):\n",
    "    diff = horizon - (2 *vertical)\n",
    "    temp_string = \"\"\n",
    "    for i in range(vertical):\n",
    "        temp_string = temp_string +\"#\"\n",
    "    \n",
    "    for i in range(diff):\n",
    "        temp_string = temp_string +\" \" \n",
    "        \n",
    "    for i in range(vertical):\n",
    "        temp_string = temp_string +\"#\"\n",
    "    \n",
    "    print (temp_string)"
   ]
  },
  {
   "cell_type": "code",
   "execution_count": null,
   "metadata": {},
   "outputs": [],
   "source": []
  }
 ],
 "metadata": {
  "kernelspec": {
   "display_name": "Python 3",
   "language": "python",
   "name": "python3"
  },
  "language_info": {
   "codemirror_mode": {
    "name": "ipython",
    "version": 3
   },
   "file_extension": ".py",
   "mimetype": "text/x-python",
   "name": "python",
   "nbconvert_exporter": "python",
   "pygments_lexer": "ipython3",
   "version": "3.7.3"
  }
 },
 "nbformat": 4,
 "nbformat_minor": 2
}
